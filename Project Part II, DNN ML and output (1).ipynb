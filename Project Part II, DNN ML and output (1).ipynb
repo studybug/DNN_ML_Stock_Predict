{
 "cells": [
  {
   "cell_type": "markdown",
   "metadata": {},
   "source": [
    "# Project Definition\n",
    "Part two: ML for trading strategy, and program output\n",
    "\n",
    "Now this part will look at three approaches to stock prediction machine learning in a Deep Neural Network (DNN) structure:\n",
    "- DNN with Scikit-learn\n",
    "- DNN with TensorFlow's DNNClassifier\n",
    "- DNN with TensorFlow's DNNRegressor\n",
    "\n",
    "The three approaches will be anaylzed with regards to returns, strategy, and graphs in regards to a best stock predictor.\n",
    "\n"
   ]
  },
  {
   "cell_type": "code",
   "execution_count": 1,
   "metadata": {
    "scrolled": false
   },
   "outputs": [],
   "source": [
    "# Import\n",
    "import numpy as np\n",
    "import pandas as pd\n",
    "import datetime as dt\n",
    "from pylab import mpl, plt\n",
    "\n",
    "\n",
    "from sklearn import preprocessing\n",
    "from sklearn.model_selection import train_test_split\n",
    "\n",
    "import tensorflow as tf\n",
    "#print(tf.__version__)\n",
    "\n",
    "from sklearn.preprocessing import MinMaxScaler\n",
    "import matplotlib.pyplot as plt\n",
    "\n",
    "from sklearn.neural_network import MLPClassifier"
   ]
  },
  {
   "cell_type": "code",
   "execution_count": 2,
   "metadata": {},
   "outputs": [],
   "source": [
    "plt.style.use('seaborn')\n",
    "mpl.rcParams['font.family'] = 'serif'\n",
    "%matplotlib inline"
   ]
  },
  {
   "cell_type": "code",
   "execution_count": 3,
   "metadata": {},
   "outputs": [],
   "source": [
    "# import cleaned data from part 1\n",
    "data_ML = pd.read_csv('data_ML')"
   ]
  },
  {
   "cell_type": "code",
   "execution_count": 4,
   "metadata": {
    "scrolled": true
   },
   "outputs": [],
   "source": [
    "data_ML2 = data_ML.copy()"
   ]
  },
  {
   "cell_type": "code",
   "execution_count": 5,
   "metadata": {
    "scrolled": true
   },
   "outputs": [
    {
     "data": {
      "text/html": [
       "<div>\n",
       "<style scoped>\n",
       "    .dataframe tbody tr th:only-of-type {\n",
       "        vertical-align: middle;\n",
       "    }\n",
       "\n",
       "    .dataframe tbody tr th {\n",
       "        vertical-align: top;\n",
       "    }\n",
       "\n",
       "    .dataframe thead th {\n",
       "        text-align: right;\n",
       "    }\n",
       "</style>\n",
       "<table border=\"1\" class=\"dataframe\">\n",
       "  <thead>\n",
       "    <tr style=\"text-align: right;\">\n",
       "      <th></th>\n",
       "      <th>Date</th>\n",
       "      <th>SPY</th>\n",
       "      <th>SMA1</th>\n",
       "      <th>SMA2</th>\n",
       "      <th>Position</th>\n",
       "      <th>Returns</th>\n",
       "      <th>Strategy</th>\n",
       "      <th>direction</th>\n",
       "    </tr>\n",
       "  </thead>\n",
       "  <tbody>\n",
       "    <tr>\n",
       "      <th>0</th>\n",
       "      <td>2016-01-04</td>\n",
       "      <td>186.84</td>\n",
       "      <td>191.24</td>\n",
       "      <td>189.24</td>\n",
       "      <td>1</td>\n",
       "      <td>-0.01</td>\n",
       "      <td>-0.01</td>\n",
       "      <td>-1</td>\n",
       "    </tr>\n",
       "    <tr>\n",
       "      <th>1</th>\n",
       "      <td>2016-01-05</td>\n",
       "      <td>187.15</td>\n",
       "      <td>191.05</td>\n",
       "      <td>189.25</td>\n",
       "      <td>1</td>\n",
       "      <td>0.00</td>\n",
       "      <td>0.00</td>\n",
       "      <td>1</td>\n",
       "    </tr>\n",
       "    <tr>\n",
       "      <th>2</th>\n",
       "      <td>2016-01-06</td>\n",
       "      <td>184.79</td>\n",
       "      <td>190.82</td>\n",
       "      <td>189.26</td>\n",
       "      <td>1</td>\n",
       "      <td>-0.01</td>\n",
       "      <td>-0.01</td>\n",
       "      <td>-1</td>\n",
       "    </tr>\n",
       "    <tr>\n",
       "      <th>3</th>\n",
       "      <td>2016-01-07</td>\n",
       "      <td>180.36</td>\n",
       "      <td>190.49</td>\n",
       "      <td>189.25</td>\n",
       "      <td>1</td>\n",
       "      <td>-0.02</td>\n",
       "      <td>-0.02</td>\n",
       "      <td>-1</td>\n",
       "    </tr>\n",
       "    <tr>\n",
       "      <th>4</th>\n",
       "      <td>2016-01-08</td>\n",
       "      <td>178.38</td>\n",
       "      <td>190.12</td>\n",
       "      <td>189.21</td>\n",
       "      <td>1</td>\n",
       "      <td>-0.01</td>\n",
       "      <td>-0.01</td>\n",
       "      <td>-1</td>\n",
       "    </tr>\n",
       "  </tbody>\n",
       "</table>\n",
       "</div>"
      ],
      "text/plain": [
       "         Date     SPY    SMA1    SMA2  Position  Returns  Strategy  direction\n",
       "0  2016-01-04  186.84  191.24  189.24         1    -0.01     -0.01         -1\n",
       "1  2016-01-05  187.15  191.05  189.25         1     0.00      0.00          1\n",
       "2  2016-01-06  184.79  190.82  189.26         1    -0.01     -0.01         -1\n",
       "3  2016-01-07  180.36  190.49  189.25         1    -0.02     -0.02         -1\n",
       "4  2016-01-08  178.38  190.12  189.21         1    -0.01     -0.01         -1"
      ]
     },
     "execution_count": 5,
     "metadata": {},
     "output_type": "execute_result"
    }
   ],
   "source": [
    "data_ML.head().round(2)"
   ]
  },
  {
   "cell_type": "markdown",
   "metadata": {},
   "source": [
    "# Methodology"
   ]
  },
  {
   "cell_type": "markdown",
   "metadata": {},
   "source": [
    "1. We will be shifting the data into mulitple columns and bins\n",
    "2. Delete NaN empty values\n"
   ]
  },
  {
   "cell_type": "code",
   "execution_count": 6,
   "metadata": {},
   "outputs": [],
   "source": [
    "# the stock of S&P 500 is being used in this example, \n",
    "# as noted earlier, results are more apparent and dynamic with stock\n",
    "symbol = 'SPY'"
   ]
  },
  {
   "cell_type": "markdown",
   "metadata": {},
   "source": [
    "Now we put the data into shifted columns from the stock price known as lags.  Here is the code below:"
   ]
  },
  {
   "cell_type": "code",
   "execution_count": 7,
   "metadata": {},
   "outputs": [],
   "source": [
    "lags = 5\n",
    "cols = []\n",
    "for lag in range(1, lags + 1):\n",
    "    col = 'lag_{}'.format(lag)  \n",
    "    data_ML[col] = data_ML[symbol].shift(lag)  \n",
    "    cols.append(col)  "
   ]
  },
  {
   "cell_type": "code",
   "execution_count": 8,
   "metadata": {},
   "outputs": [
    {
     "data": {
      "text/html": [
       "<div>\n",
       "<style scoped>\n",
       "    .dataframe tbody tr th:only-of-type {\n",
       "        vertical-align: middle;\n",
       "    }\n",
       "\n",
       "    .dataframe tbody tr th {\n",
       "        vertical-align: top;\n",
       "    }\n",
       "\n",
       "    .dataframe thead th {\n",
       "        text-align: right;\n",
       "    }\n",
       "</style>\n",
       "<table border=\"1\" class=\"dataframe\">\n",
       "  <thead>\n",
       "    <tr style=\"text-align: right;\">\n",
       "      <th></th>\n",
       "      <th>Date</th>\n",
       "      <th>SPY</th>\n",
       "      <th>SMA1</th>\n",
       "      <th>SMA2</th>\n",
       "      <th>Position</th>\n",
       "      <th>Returns</th>\n",
       "      <th>Strategy</th>\n",
       "      <th>direction</th>\n",
       "      <th>lag_1</th>\n",
       "      <th>lag_2</th>\n",
       "      <th>lag_3</th>\n",
       "      <th>lag_4</th>\n",
       "      <th>lag_5</th>\n",
       "    </tr>\n",
       "  </thead>\n",
       "  <tbody>\n",
       "    <tr>\n",
       "      <th>0</th>\n",
       "      <td>2016-01-04</td>\n",
       "      <td>186.836166</td>\n",
       "      <td>191.235993</td>\n",
       "      <td>189.238119</td>\n",
       "      <td>1</td>\n",
       "      <td>-0.014078</td>\n",
       "      <td>-0.014078</td>\n",
       "      <td>-1</td>\n",
       "      <td>NaN</td>\n",
       "      <td>NaN</td>\n",
       "      <td>NaN</td>\n",
       "      <td>NaN</td>\n",
       "      <td>NaN</td>\n",
       "    </tr>\n",
       "    <tr>\n",
       "      <th>1</th>\n",
       "      <td>2016-01-05</td>\n",
       "      <td>187.152161</td>\n",
       "      <td>191.050289</td>\n",
       "      <td>189.251833</td>\n",
       "      <td>1</td>\n",
       "      <td>0.001690</td>\n",
       "      <td>0.001690</td>\n",
       "      <td>1</td>\n",
       "      <td>186.836166</td>\n",
       "      <td>NaN</td>\n",
       "      <td>NaN</td>\n",
       "      <td>NaN</td>\n",
       "      <td>NaN</td>\n",
       "    </tr>\n",
       "    <tr>\n",
       "      <th>2</th>\n",
       "      <td>2016-01-06</td>\n",
       "      <td>184.791367</td>\n",
       "      <td>190.822455</td>\n",
       "      <td>189.263046</td>\n",
       "      <td>1</td>\n",
       "      <td>-0.012695</td>\n",
       "      <td>-0.012695</td>\n",
       "      <td>-1</td>\n",
       "      <td>187.152161</td>\n",
       "      <td>186.836166</td>\n",
       "      <td>NaN</td>\n",
       "      <td>NaN</td>\n",
       "      <td>NaN</td>\n",
       "    </tr>\n",
       "    <tr>\n",
       "      <th>3</th>\n",
       "      <td>2016-01-07</td>\n",
       "      <td>180.357925</td>\n",
       "      <td>190.493684</td>\n",
       "      <td>189.247667</td>\n",
       "      <td>1</td>\n",
       "      <td>-0.024284</td>\n",
       "      <td>-0.024284</td>\n",
       "      <td>-1</td>\n",
       "      <td>184.791367</td>\n",
       "      <td>187.152161</td>\n",
       "      <td>186.836166</td>\n",
       "      <td>NaN</td>\n",
       "      <td>NaN</td>\n",
       "    </tr>\n",
       "    <tr>\n",
       "      <th>4</th>\n",
       "      <td>2016-01-08</td>\n",
       "      <td>178.378235</td>\n",
       "      <td>190.120196</td>\n",
       "      <td>189.211459</td>\n",
       "      <td>1</td>\n",
       "      <td>-0.011037</td>\n",
       "      <td>-0.011037</td>\n",
       "      <td>-1</td>\n",
       "      <td>180.357925</td>\n",
       "      <td>184.791367</td>\n",
       "      <td>187.152161</td>\n",
       "      <td>186.836166</td>\n",
       "      <td>NaN</td>\n",
       "    </tr>\n",
       "    <tr>\n",
       "      <th>5</th>\n",
       "      <td>2016-01-11</td>\n",
       "      <td>178.554810</td>\n",
       "      <td>189.794029</td>\n",
       "      <td>189.181915</td>\n",
       "      <td>1</td>\n",
       "      <td>0.000989</td>\n",
       "      <td>0.000989</td>\n",
       "      <td>1</td>\n",
       "      <td>178.378235</td>\n",
       "      <td>180.357925</td>\n",
       "      <td>184.791367</td>\n",
       "      <td>187.152161</td>\n",
       "      <td>186.836166</td>\n",
       "    </tr>\n",
       "    <tr>\n",
       "      <th>6</th>\n",
       "      <td>2016-01-12</td>\n",
       "      <td>179.995468</td>\n",
       "      <td>189.491603</td>\n",
       "      <td>189.163869</td>\n",
       "      <td>1</td>\n",
       "      <td>0.008036</td>\n",
       "      <td>0.008036</td>\n",
       "      <td>1</td>\n",
       "      <td>178.554810</td>\n",
       "      <td>178.378235</td>\n",
       "      <td>180.357925</td>\n",
       "      <td>184.791367</td>\n",
       "      <td>187.152161</td>\n",
       "    </tr>\n",
       "  </tbody>\n",
       "</table>\n",
       "</div>"
      ],
      "text/plain": [
       "         Date         SPY        SMA1        SMA2  Position   Returns  \\\n",
       "0  2016-01-04  186.836166  191.235993  189.238119         1 -0.014078   \n",
       "1  2016-01-05  187.152161  191.050289  189.251833         1  0.001690   \n",
       "2  2016-01-06  184.791367  190.822455  189.263046         1 -0.012695   \n",
       "3  2016-01-07  180.357925  190.493684  189.247667         1 -0.024284   \n",
       "4  2016-01-08  178.378235  190.120196  189.211459         1 -0.011037   \n",
       "5  2016-01-11  178.554810  189.794029  189.181915         1  0.000989   \n",
       "6  2016-01-12  179.995468  189.491603  189.163869         1  0.008036   \n",
       "\n",
       "   Strategy  direction       lag_1       lag_2       lag_3       lag_4  \\\n",
       "0 -0.014078         -1         NaN         NaN         NaN         NaN   \n",
       "1  0.001690          1  186.836166         NaN         NaN         NaN   \n",
       "2 -0.012695         -1  187.152161  186.836166         NaN         NaN   \n",
       "3 -0.024284         -1  184.791367  187.152161  186.836166         NaN   \n",
       "4 -0.011037         -1  180.357925  184.791367  187.152161  186.836166   \n",
       "5  0.000989          1  178.378235  180.357925  184.791367  187.152161   \n",
       "6  0.008036          1  178.554810  178.378235  180.357925  184.791367   \n",
       "\n",
       "        lag_5  \n",
       "0         NaN  \n",
       "1         NaN  \n",
       "2         NaN  \n",
       "3         NaN  \n",
       "4         NaN  \n",
       "5  186.836166  \n",
       "6  187.152161  "
      ]
     },
     "execution_count": 8,
     "metadata": {},
     "output_type": "execute_result"
    }
   ],
   "source": [
    "data_ML.head(7)"
   ]
  },
  {
   "cell_type": "code",
   "execution_count": 9,
   "metadata": {},
   "outputs": [],
   "source": [
    "# we need to drop the NaN else the data learning will get messy and may not work\n",
    "data_ML.dropna(inplace=True)"
   ]
  },
  {
   "cell_type": "code",
   "execution_count": 10,
   "metadata": {},
   "outputs": [],
   "source": [
    "# I have to add several lags otherwise the returns and strategy will be the same or near the same values\n",
    "\n",
    "lags = 5\n",
    "\n",
    "def create_lags(data):\n",
    "    global cols\n",
    "    cols = []\n",
    "    for lag in range(1, lags + 1):\n",
    "        col = 'lag_{}'.format(lag)\n",
    "        data_ML[col] = data_ML['Returns'].shift(lag)\n",
    "        cols.append(col)\n"
   ]
  },
  {
   "cell_type": "code",
   "execution_count": 11,
   "metadata": {},
   "outputs": [],
   "source": [
    "create_lags(data_ML)"
   ]
  },
  {
   "cell_type": "markdown",
   "metadata": {},
   "source": [
    "Also a reminder that Returns are the annualized rolling standard deviation of the log returns (or simply volatility).\n",
    "Volatility is the degree of variation of a trading price over time."
   ]
  },
  {
   "cell_type": "code",
   "execution_count": 12,
   "metadata": {},
   "outputs": [],
   "source": [
    "# The mean log return\n",
    "mu = data_ML['Returns'].mean()  \n",
    "# The standard deviation\n",
    "v = data_ML['Returns'].std()  "
   ]
  },
  {
   "cell_type": "code",
   "execution_count": 13,
   "metadata": {},
   "outputs": [
    {
     "data": {
      "text/plain": [
       "[-0.0075634834904770671, 0.00056700374447253685, 0.008697490979422141]"
      ]
     },
     "execution_count": 13,
     "metadata": {},
     "output_type": "execute_result"
    }
   ],
   "source": [
    "# this digitizes the features data.\n",
    "bins = [mu - v, mu, mu + v]  \n",
    "bins  "
   ]
  },
  {
   "cell_type": "code",
   "execution_count": 14,
   "metadata": {},
   "outputs": [],
   "source": [
    "# normalize the data similar to sklearn.preprocessing.StandardScaler\n",
    "# find section off each bin, and categorize it as being positive or negative, \n",
    "# with 0 being negative and 1 being postive\n",
    "def create_bins(data, bins=[0]):\n",
    "    global cols_bin\n",
    "    cols_bin = []\n",
    "    for col in cols:\n",
    "        col_bin = col + '_bin'\n",
    "        data_ML[col_bin] = np.digitize(data_ML[col], bins=bins) #np.digitize returns the integer to which the digits belongs\n",
    "        cols_bin.append(col_bin)"
   ]
  },
  {
   "cell_type": "code",
   "execution_count": 15,
   "metadata": {
    "scrolled": false
   },
   "outputs": [],
   "source": [
    "create_bins(data_ML)"
   ]
  },
  {
   "cell_type": "code",
   "execution_count": 16,
   "metadata": {
    "scrolled": true
   },
   "outputs": [
    {
     "data": {
      "text/html": [
       "<div>\n",
       "<style scoped>\n",
       "    .dataframe tbody tr th:only-of-type {\n",
       "        vertical-align: middle;\n",
       "    }\n",
       "\n",
       "    .dataframe tbody tr th {\n",
       "        vertical-align: top;\n",
       "    }\n",
       "\n",
       "    .dataframe thead th {\n",
       "        text-align: right;\n",
       "    }\n",
       "</style>\n",
       "<table border=\"1\" class=\"dataframe\">\n",
       "  <thead>\n",
       "    <tr style=\"text-align: right;\">\n",
       "      <th></th>\n",
       "      <th>Date</th>\n",
       "      <th>SPY</th>\n",
       "      <th>SMA1</th>\n",
       "      <th>SMA2</th>\n",
       "      <th>Position</th>\n",
       "      <th>Returns</th>\n",
       "      <th>Strategy</th>\n",
       "      <th>direction</th>\n",
       "      <th>lag_1</th>\n",
       "      <th>lag_2</th>\n",
       "      <th>lag_3</th>\n",
       "      <th>lag_4</th>\n",
       "      <th>lag_5</th>\n",
       "      <th>lag_1_bin</th>\n",
       "      <th>lag_2_bin</th>\n",
       "      <th>lag_3_bin</th>\n",
       "      <th>lag_4_bin</th>\n",
       "      <th>lag_5_bin</th>\n",
       "    </tr>\n",
       "  </thead>\n",
       "  <tbody>\n",
       "    <tr>\n",
       "      <th>5</th>\n",
       "      <td>2016-01-11</td>\n",
       "      <td>178.555</td>\n",
       "      <td>189.794</td>\n",
       "      <td>189.182</td>\n",
       "      <td>1</td>\n",
       "      <td>0.001</td>\n",
       "      <td>0.001</td>\n",
       "      <td>1</td>\n",
       "      <td>NaN</td>\n",
       "      <td>NaN</td>\n",
       "      <td>NaN</td>\n",
       "      <td>NaN</td>\n",
       "      <td>NaN</td>\n",
       "      <td>1</td>\n",
       "      <td>1</td>\n",
       "      <td>1</td>\n",
       "      <td>1</td>\n",
       "      <td>1</td>\n",
       "    </tr>\n",
       "    <tr>\n",
       "      <th>6</th>\n",
       "      <td>2016-01-12</td>\n",
       "      <td>179.995</td>\n",
       "      <td>189.492</td>\n",
       "      <td>189.164</td>\n",
       "      <td>1</td>\n",
       "      <td>0.008</td>\n",
       "      <td>0.008</td>\n",
       "      <td>1</td>\n",
       "      <td>0.001</td>\n",
       "      <td>NaN</td>\n",
       "      <td>NaN</td>\n",
       "      <td>NaN</td>\n",
       "      <td>NaN</td>\n",
       "      <td>1</td>\n",
       "      <td>1</td>\n",
       "      <td>1</td>\n",
       "      <td>1</td>\n",
       "      <td>1</td>\n",
       "    </tr>\n",
       "    <tr>\n",
       "      <th>7</th>\n",
       "      <td>2016-01-13</td>\n",
       "      <td>175.506</td>\n",
       "      <td>189.100</td>\n",
       "      <td>189.130</td>\n",
       "      <td>-1</td>\n",
       "      <td>-0.025</td>\n",
       "      <td>-0.025</td>\n",
       "      <td>-1</td>\n",
       "      <td>0.008</td>\n",
       "      <td>0.001</td>\n",
       "      <td>NaN</td>\n",
       "      <td>NaN</td>\n",
       "      <td>NaN</td>\n",
       "      <td>1</td>\n",
       "      <td>1</td>\n",
       "      <td>1</td>\n",
       "      <td>1</td>\n",
       "      <td>1</td>\n",
       "    </tr>\n",
       "    <tr>\n",
       "      <th>8</th>\n",
       "      <td>2016-01-14</td>\n",
       "      <td>178.387</td>\n",
       "      <td>188.841</td>\n",
       "      <td>189.112</td>\n",
       "      <td>-1</td>\n",
       "      <td>0.016</td>\n",
       "      <td>-0.016</td>\n",
       "      <td>1</td>\n",
       "      <td>-0.025</td>\n",
       "      <td>0.008</td>\n",
       "      <td>0.001</td>\n",
       "      <td>NaN</td>\n",
       "      <td>NaN</td>\n",
       "      <td>0</td>\n",
       "      <td>1</td>\n",
       "      <td>1</td>\n",
       "      <td>1</td>\n",
       "      <td>1</td>\n",
       "    </tr>\n",
       "    <tr>\n",
       "      <th>9</th>\n",
       "      <td>2016-01-15</td>\n",
       "      <td>174.558</td>\n",
       "      <td>188.542</td>\n",
       "      <td>189.086</td>\n",
       "      <td>-1</td>\n",
       "      <td>-0.022</td>\n",
       "      <td>0.022</td>\n",
       "      <td>-1</td>\n",
       "      <td>0.016</td>\n",
       "      <td>-0.025</td>\n",
       "      <td>0.008</td>\n",
       "      <td>0.001</td>\n",
       "      <td>NaN</td>\n",
       "      <td>1</td>\n",
       "      <td>0</td>\n",
       "      <td>1</td>\n",
       "      <td>1</td>\n",
       "      <td>1</td>\n",
       "    </tr>\n",
       "  </tbody>\n",
       "</table>\n",
       "</div>"
      ],
      "text/plain": [
       "         Date      SPY     SMA1     SMA2  Position  Returns  Strategy  \\\n",
       "5  2016-01-11  178.555  189.794  189.182         1    0.001     0.001   \n",
       "6  2016-01-12  179.995  189.492  189.164         1    0.008     0.008   \n",
       "7  2016-01-13  175.506  189.100  189.130        -1   -0.025    -0.025   \n",
       "8  2016-01-14  178.387  188.841  189.112        -1    0.016    -0.016   \n",
       "9  2016-01-15  174.558  188.542  189.086        -1   -0.022     0.022   \n",
       "\n",
       "   direction  lag_1  lag_2  lag_3  lag_4  lag_5  lag_1_bin  lag_2_bin  \\\n",
       "5          1    NaN    NaN    NaN    NaN    NaN          1          1   \n",
       "6          1  0.001    NaN    NaN    NaN    NaN          1          1   \n",
       "7         -1  0.008  0.001    NaN    NaN    NaN          1          1   \n",
       "8          1 -0.025  0.008  0.001    NaN    NaN          0          1   \n",
       "9         -1  0.016 -0.025  0.008  0.001    NaN          1          0   \n",
       "\n",
       "   lag_3_bin  lag_4_bin  lag_5_bin  \n",
       "5          1          1          1  \n",
       "6          1          1          1  \n",
       "7          1          1          1  \n",
       "8          1          1          1  \n",
       "9          1          1          1  "
      ]
     },
     "execution_count": 16,
     "metadata": {},
     "output_type": "execute_result"
    }
   ],
   "source": [
    "data_ML.head().round(3)"
   ]
  },
  {
   "cell_type": "markdown",
   "metadata": {},
   "source": [
    "## Deep Neural Network"
   ]
  },
  {
   "cell_type": "markdown",
   "metadata": {},
   "source": [
    "**What is a Deep Neural Network?** A Deep Neural Network (DNN) ia an artificial neural network with multiple layers between the input and output layers. This synthetic process emulates the thinking process of the human brain.  DNN contains hidden layers which help facilitate more complex relationships between layers and parts."
   ]
  },
  {
   "cell_type": "markdown",
   "metadata": {},
   "source": [
    "### DNN with scikit-learn"
   ]
  },
  {
   "cell_type": "markdown",
   "metadata": {},
   "source": [
    "**Why Scikit-learn and DNN?** Scikit-learn is utlizied by many industries to build machine learning models.  It is easy to use, easy for manipulating constraints, and can be flexible for use. Scikit-learn has a neural networks algorithms that have hidden layers which is central to DNN."
   ]
  },
  {
   "cell_type": "markdown",
   "metadata": {},
   "source": [
    "We will be using the **MLPClassifier**.  MLPClassifier uses a Multi-layer Perceptron (MLP) algorithm and trains using Backpropagation.  This function can used for either classification or regression.  A Multi-layer Perceptron (MLP) can learn models in real-time which is important in relation to real-time changing stock data."
   ]
  },
  {
   "cell_type": "markdown",
   "metadata": {},
   "source": [
    "Evaluation first without the test train split, more so for pre-testing:"
   ]
  },
  {
   "cell_type": "code",
   "execution_count": 17,
   "metadata": {
    "scrolled": true
   },
   "outputs": [],
   "source": [
    "# without test_train_split\n",
    "model = MLPClassifier(solver='lbfgs', alpha=1e-5,\n",
    "                     hidden_layer_sizes=2 * [250], random_state=1)"
   ]
  },
  {
   "cell_type": "code",
   "execution_count": 18,
   "metadata": {},
   "outputs": [
    {
     "name": "stdout",
     "output_type": "stream",
     "text": [
      "CPU times: user 17.1 s, sys: 9.41 s, total: 26.5 s\n",
      "Wall time: 6.78 s\n"
     ]
    },
    {
     "data": {
      "text/plain": [
       "MLPClassifier(activation='relu', alpha=1e-05, batch_size='auto', beta_1=0.9,\n",
       "       beta_2=0.999, early_stopping=False, epsilon=1e-08,\n",
       "       hidden_layer_sizes=[250, 250], learning_rate='constant',\n",
       "       learning_rate_init=0.001, max_iter=200, momentum=0.9,\n",
       "       nesterovs_momentum=True, power_t=0.5, random_state=1, shuffle=True,\n",
       "       solver='lbfgs', tol=0.0001, validation_fraction=0.1, verbose=False,\n",
       "       warm_start=False)"
      ]
     },
     "execution_count": 18,
     "metadata": {},
     "output_type": "execute_result"
    }
   ],
   "source": [
    "%time model.fit(data_ML[cols_bin], data_ML['direction'])"
   ]
  },
  {
   "cell_type": "code",
   "execution_count": 19,
   "metadata": {},
   "outputs": [],
   "source": [
    "data_ML['pos_dnn_sk'] = model.predict(data_ML[cols_bin])"
   ]
  },
  {
   "cell_type": "code",
   "execution_count": 20,
   "metadata": {},
   "outputs": [],
   "source": [
    "data_ML['strat_dnn_sk'] = data_ML['pos_dnn_sk'] * data_ML['Returns']"
   ]
  },
  {
   "cell_type": "code",
   "execution_count": 21,
   "metadata": {
    "scrolled": false
   },
   "outputs": [
    {
     "data": {
      "text/plain": [
       "Returns         1.746065\n",
       "strat_dnn_sk    1.808832\n",
       "dtype: float64"
      ]
     },
     "execution_count": 21,
     "metadata": {},
     "output_type": "execute_result"
    }
   ],
   "source": [
    "data_ML[['Returns', 'strat_dnn_sk']].sum().apply(np.exp)"
   ]
  },
  {
   "cell_type": "markdown",
   "metadata": {},
   "source": [
    "A reminder: \n",
    "- Returns are the annualized rolling standard deviation of the log returns (or simply volatility)\n",
    "- Strategy or 'strat_dnn_sk' is the log returns of the trading strategy derived the prediction values and the benchmark log returns."
   ]
  },
  {
   "cell_type": "code",
   "execution_count": 22,
   "metadata": {
    "scrolled": false
   },
   "outputs": [
    {
     "data": {
      "image/png": "[encoded data removed]",
      "text/plain": [
       "<matplotlib.figure.Figure at 0x7f461a7b71d0>"
      ]
     },
     "metadata": {
      "needs_background": "light"
     },
     "output_type": "display_data"
    }
   ],
   "source": [
    "data_ML[['Returns', 'strat_dnn_sk']].cumsum().apply(np.exp).plot(figsize=(10, 6));\n",
    "# plt.savefig('../../images/ch15/strat_ml_12.png');"
   ]
  },
  {
   "cell_type": "markdown",
   "metadata": {},
   "source": [
    "Clearly as the graph shows, this model can preform well. But this model knows the dataset too well and is also considered overfitting.  In real life the machine will not have foreknowledge of the dataset but will have to learn to make foreknowledge."
   ]
  },
  {
   "cell_type": "markdown",
   "metadata": {},
   "source": [
    "Now a adding a test_train_split is necessary as to avoid overfitting of the DNN model.  The test_size and random state will be standardized at the same values to allow for quality comparisions between packages. (just like a scientific test)"
   ]
  },
  {
   "cell_type": "code",
   "execution_count": 23,
   "metadata": {
    "scrolled": true
   },
   "outputs": [],
   "source": [
    "# the split is randomized — this is emulating reality, where an algorithm during trading is faced with \n",
    "# new data on a continuous basis.\n",
    "train, test = train_test_split(data_ML, test_size=0.33, random_state=100)"
   ]
  },
  {
   "cell_type": "code",
   "execution_count": 24,
   "metadata": {},
   "outputs": [],
   "source": [
    "train = train.copy().sort_index()  "
   ]
  },
  {
   "cell_type": "code",
   "execution_count": 25,
   "metadata": {
    "scrolled": true
   },
   "outputs": [
    {
     "data": {
      "text/html": [
       "<div>\n",
       "<style scoped>\n",
       "    .dataframe tbody tr th:only-of-type {\n",
       "        vertical-align: middle;\n",
       "    }\n",
       "\n",
       "    .dataframe tbody tr th {\n",
       "        vertical-align: top;\n",
       "    }\n",
       "\n",
       "    .dataframe thead th {\n",
       "        text-align: right;\n",
       "    }\n",
       "</style>\n",
       "<table border=\"1\" class=\"dataframe\">\n",
       "  <thead>\n",
       "    <tr style=\"text-align: right;\">\n",
       "      <th></th>\n",
       "      <th>lag_1_bin</th>\n",
       "      <th>lag_2_bin</th>\n",
       "      <th>lag_3_bin</th>\n",
       "      <th>lag_4_bin</th>\n",
       "      <th>lag_5_bin</th>\n",
       "    </tr>\n",
       "  </thead>\n",
       "  <tbody>\n",
       "    <tr>\n",
       "      <th>5</th>\n",
       "      <td>1</td>\n",
       "      <td>1</td>\n",
       "      <td>1</td>\n",
       "      <td>1</td>\n",
       "      <td>1</td>\n",
       "    </tr>\n",
       "    <tr>\n",
       "      <th>6</th>\n",
       "      <td>1</td>\n",
       "      <td>1</td>\n",
       "      <td>1</td>\n",
       "      <td>1</td>\n",
       "      <td>1</td>\n",
       "    </tr>\n",
       "    <tr>\n",
       "      <th>7</th>\n",
       "      <td>1</td>\n",
       "      <td>1</td>\n",
       "      <td>1</td>\n",
       "      <td>1</td>\n",
       "      <td>1</td>\n",
       "    </tr>\n",
       "    <tr>\n",
       "      <th>9</th>\n",
       "      <td>1</td>\n",
       "      <td>0</td>\n",
       "      <td>1</td>\n",
       "      <td>1</td>\n",
       "      <td>1</td>\n",
       "    </tr>\n",
       "    <tr>\n",
       "      <th>10</th>\n",
       "      <td>0</td>\n",
       "      <td>1</td>\n",
       "      <td>0</td>\n",
       "      <td>1</td>\n",
       "      <td>1</td>\n",
       "    </tr>\n",
       "  </tbody>\n",
       "</table>\n",
       "</div>"
      ],
      "text/plain": [
       "    lag_1_bin  lag_2_bin  lag_3_bin  lag_4_bin  lag_5_bin\n",
       "5           1          1          1          1          1\n",
       "6           1          1          1          1          1\n",
       "7           1          1          1          1          1\n",
       "9           1          0          1          1          1\n",
       "10          0          1          0          1          1"
      ]
     },
     "execution_count": 25,
     "metadata": {},
     "output_type": "execute_result"
    }
   ],
   "source": [
    "train[cols_bin].head()"
   ]
  },
  {
   "cell_type": "code",
   "execution_count": 26,
   "metadata": {},
   "outputs": [],
   "source": [
    "test = test.copy().sort_index()  "
   ]
  },
  {
   "cell_type": "code",
   "execution_count": 27,
   "metadata": {},
   "outputs": [],
   "source": [
    "# lets try 3 hidden layers with 500 nodes instead of 2 hidden layers with 250 nodes\n",
    "model = MLPClassifier(solver='lbfgs', alpha=1e-5, max_iter=500,\n",
    "                     hidden_layer_sizes=3 * [500], random_state=1)  "
   ]
  },
  {
   "cell_type": "code",
   "execution_count": 28,
   "metadata": {
    "scrolled": false
   },
   "outputs": [
    {
     "name": "stdout",
     "output_type": "stream",
     "text": [
      "CPU times: user 1min 22s, sys: 39.1 s, total: 2min 1s\n",
      "Wall time: 30.8 s\n"
     ]
    },
    {
     "data": {
      "text/plain": [
       "MLPClassifier(activation='relu', alpha=1e-05, batch_size='auto', beta_1=0.9,\n",
       "       beta_2=0.999, early_stopping=False, epsilon=1e-08,\n",
       "       hidden_layer_sizes=[500, 500, 500], learning_rate='constant',\n",
       "       learning_rate_init=0.001, max_iter=500, momentum=0.9,\n",
       "       nesterovs_momentum=True, power_t=0.5, random_state=1, shuffle=True,\n",
       "       solver='lbfgs', tol=0.0001, validation_fraction=0.1, verbose=False,\n",
       "       warm_start=False)"
      ]
     },
     "execution_count": 28,
     "metadata": {},
     "output_type": "execute_result"
    }
   ],
   "source": [
    "%time model.fit(train[cols_bin], train['direction'])"
   ]
  },
  {
   "cell_type": "code",
   "execution_count": 29,
   "metadata": {},
   "outputs": [],
   "source": [
    "test['pos_dnn_sk'] = model.predict(test[cols_bin])"
   ]
  },
  {
   "cell_type": "code",
   "execution_count": 30,
   "metadata": {
    "scrolled": true
   },
   "outputs": [],
   "source": [
    "test['strat_dnn_sk'] = test['pos_dnn_sk'] * test['Returns']"
   ]
  },
  {
   "cell_type": "markdown",
   "metadata": {},
   "source": [
    "# Results"
   ]
  },
  {
   "cell_type": "code",
   "execution_count": 31,
   "metadata": {
    "scrolled": false
   },
   "outputs": [
    {
     "data": {
      "text/plain": [
       "Returns         1.265743\n",
       "strat_dnn_sk    1.007196\n",
       "dtype: float64"
      ]
     },
     "execution_count": 31,
     "metadata": {},
     "output_type": "execute_result"
    }
   ],
   "source": [
    "test[['Returns', 'strat_dnn_sk']].sum().apply(np.exp)"
   ]
  },
  {
   "cell_type": "code",
   "execution_count": 32,
   "metadata": {
    "scrolled": true
   },
   "outputs": [
    {
     "data": {
      "image/png": "[encoded data removed]",
      "text/plain": [
       "<matplotlib.figure.Figure at 0x7f461b38f1d0>"
      ]
     },
     "metadata": {
      "needs_background": "light"
     },
     "output_type": "display_data"
    }
   ],
   "source": [
    "test[['Returns', 'strat_dnn_sk']].cumsum().apply(np.exp).plot(figsize=(10, 6));\n",
    "# plt.savefig('../../images/ch15/strat_ml_13.png');"
   ]
  },
  {
   "cell_type": "markdown",
   "metadata": {},
   "source": [
    "As the results of a more realistic approach show, the strategy did not preform as well as the returns, and started to preform worse near the end.  However, more investigation can be looked at in setting up the MLClassifier parameters to change for a better result.  There is evidence that this approach can work with the right parameters as shown in the book \"Python for Finance\".  The hidden_layer_sizes for the first one without test_train_split is [250, 250], while the second one is [500, 500, 500].  I wounder if this could make a difference"
   ]
  },
  {
   "cell_type": "code",
   "execution_count": 33,
   "metadata": {
    "scrolled": true
   },
   "outputs": [],
   "source": [
    "# the split is randomized — this is emulating reality, where an algorithm during trading is faced with \n",
    "# new data on a continuous basis.\n",
    "train, test = train_test_split(data_ML, test_size=0.33, random_state=100)"
   ]
  },
  {
   "cell_type": "code",
   "execution_count": 34,
   "metadata": {},
   "outputs": [],
   "source": [
    "train = train.copy().sort_index()  "
   ]
  },
  {
   "cell_type": "code",
   "execution_count": 35,
   "metadata": {},
   "outputs": [],
   "source": [
    "test = test.copy().sort_index()  "
   ]
  },
  {
   "cell_type": "code",
   "execution_count": 36,
   "metadata": {},
   "outputs": [],
   "source": [
    "# lets try 3 hidden layers with 250 nodes instead of 2 hidden layers with 500 nodes\n",
    "model = MLPClassifier(solver='lbfgs', alpha=1e-5, max_iter=500,\n",
    "                     hidden_layer_sizes=3 * [250], random_state=1)  "
   ]
  },
  {
   "cell_type": "code",
   "execution_count": 37,
   "metadata": {
    "scrolled": false
   },
   "outputs": [
    {
     "name": "stdout",
     "output_type": "stream",
     "text": [
      "CPU times: user 14.9 s, sys: 7.6 s, total: 22.5 s\n",
      "Wall time: 5.75 s\n"
     ]
    },
    {
     "data": {
      "text/plain": [
       "MLPClassifier(activation='relu', alpha=1e-05, batch_size='auto', beta_1=0.9,\n",
       "       beta_2=0.999, early_stopping=False, epsilon=1e-08,\n",
       "       hidden_layer_sizes=[250, 250, 250], learning_rate='constant',\n",
       "       learning_rate_init=0.001, max_iter=500, momentum=0.9,\n",
       "       nesterovs_momentum=True, power_t=0.5, random_state=1, shuffle=True,\n",
       "       solver='lbfgs', tol=0.0001, validation_fraction=0.1, verbose=False,\n",
       "       warm_start=False)"
      ]
     },
     "execution_count": 37,
     "metadata": {},
     "output_type": "execute_result"
    }
   ],
   "source": [
    "%time model.fit(train[cols_bin], train['direction'])"
   ]
  },
  {
   "cell_type": "code",
   "execution_count": 38,
   "metadata": {},
   "outputs": [],
   "source": [
    "test['pos_dnn_sk'] = model.predict(test[cols_bin])"
   ]
  },
  {
   "cell_type": "code",
   "execution_count": 39,
   "metadata": {
    "scrolled": true
   },
   "outputs": [],
   "source": [
    "test['strat_dnn_sk'] = test['pos_dnn_sk'] * test['Returns']"
   ]
  },
  {
   "cell_type": "markdown",
   "metadata": {},
   "source": [
    "# Results"
   ]
  },
  {
   "cell_type": "code",
   "execution_count": 40,
   "metadata": {
    "scrolled": false
   },
   "outputs": [
    {
     "data": {
      "image/png": "[encoded data removed]",
      "text/plain": [
       "<matplotlib.figure.Figure at 0x7f461a8a4b38>"
      ]
     },
     "metadata": {
      "needs_background": "light"
     },
     "output_type": "display_data"
    }
   ],
   "source": [
    "test[['Returns', 'strat_dnn_sk']].cumsum().apply(np.exp).plot(figsize=(10, 6));\n",
    "# plt.savefig('../../images/ch15/strat_ml_13.png');"
   ]
  },
  {
   "cell_type": "markdown",
   "metadata": {},
   "source": [
    "Surprisingly, that made a difference.  Less hidden nodes made the strategy near equal to the returns.  This is a better approach however it did not beat the returns."
   ]
  },
  {
   "cell_type": "markdown",
   "metadata": {},
   "source": [
    "### DNN with TensorFlow"
   ]
  },
  {
   "cell_type": "code",
   "execution_count": 41,
   "metadata": {
    "scrolled": true
   },
   "outputs": [
    {
     "data": {
      "text/plain": [
       "Returns         1.265743\n",
       "strat_dnn_sk    1.025006\n",
       "dtype: float64"
      ]
     },
     "execution_count": 41,
     "metadata": {},
     "output_type": "execute_result"
    }
   ],
   "source": [
    "test[['Returns', 'strat_dnn_sk']].sum().apply(np.exp)"
   ]
  },
  {
   "cell_type": "markdown",
   "metadata": {},
   "source": [
    "**Why TensorFlow and DNN?**  Since being released in 2015, TensoFlow by Google has show good results in academic papers, blog posts, and videos.  The program has made good results on Machine learning. \n",
    "\n",
    "As one article put it, \"TensorFlow's Github repository has nearly twice the number of stars of both the next most-starred machine learning project, Scikit-learn, and closest deep learning project, Berkeley Vision and Learning Center's Caffe\"(Matthew Mayo)."
   ]
  },
  {
   "cell_type": "markdown",
   "metadata": {},
   "source": [
    "TensorFlow works with making placeholders and variables to define an abstract represenation of the model.  Then these placeholders get replaced with actual real data and computations are made."
   ]
  },
  {
   "cell_type": "code",
   "execution_count": 42,
   "metadata": {
    "scrolled": true
   },
   "outputs": [],
   "source": [
    "import tensorflow as tf\n",
    "\n",
    "# tell TensorFlow to tell all messages that have the label error\n",
    "tf.logging.set_verbosity(tf.logging.ERROR)\n"
   ]
  },
  {
   "cell_type": "code",
   "execution_count": 43,
   "metadata": {
    "scrolled": true
   },
   "outputs": [],
   "source": [
    "feature_columns = [tf.contrib.layers.real_valued_column('lags', dimension=lags)]"
   ]
  },
  {
   "cell_type": "markdown",
   "metadata": {},
   "source": [
    "We will first be using a **DNNClassifier**.  A DNNClassifier predicts which category an input sample belongs to."
   ]
  },
  {
   "cell_type": "code",
   "execution_count": 44,
   "metadata": {
    "scrolled": true
   },
   "outputs": [],
   "source": [
    "# initiate model\n",
    "# using 3 hidden layers with 500 nodes\n",
    "model = tf.contrib.learn.DNNClassifier(hidden_units=3 * [500],\n",
    "                                       n_classes=len(bins) + 1,\n",
    "                                       feature_columns=feature_columns)"
   ]
  },
  {
   "cell_type": "markdown",
   "metadata": {},
   "source": [
    "TensorFlow is **strict** on the type of data that is imported into the model.  For the data, it has to be a tensor composing of vectors and matrices.  TensorFlow has its own rules about inputs and one must conform to these, else you will get errors.  Common errors are ValueError and IndexError."
   ]
  },
  {
   "cell_type": "code",
   "execution_count": 45,
   "metadata": {},
   "outputs": [],
   "source": [
    "# create an organized input for tensorflow\n",
    "\n",
    "# - scalling is typically done since most common activation functions are built on that scale\n",
    "# Some people typicall use sklearn.preprocessing.StandardScaler however, \n",
    "# this is not necessary since our data is aready scaled within a limit.\n",
    "# - scale the directional data from 0 to 1\n",
    "\n",
    "\n",
    "def input_fn():\n",
    "    fc = {'lags': tf.constant(data_ML[cols_bin].values)}\n",
    "    la = tf.constant(data_ML['direction'].apply(lambda x: 0 if x < 0 else 1).values, # tf.constant is a constant tensor with value and shape\n",
    "                     shape=[data_ML['direction'].size, 1])\n",
    "    return fc, la"
   ]
  },
  {
   "cell_type": "markdown",
   "metadata": {},
   "source": [
    "Evaluation without test_train_split or any split:"
   ]
  },
  {
   "cell_type": "code",
   "execution_count": 46,
   "metadata": {
    "scrolled": false
   },
   "outputs": [
    {
     "name": "stdout",
     "output_type": "stream",
     "text": [
      "CPU times: user 3.49 s, sys: 796 ms, total: 4.28 s\n",
      "Wall time: 5.45 s\n"
     ]
    },
    {
     "data": {
      "text/plain": [
       "DNNClassifier(params={'head': <tensorflow.contrib.learn.python.learn.estimators.head._MultiClassHead object at 0x7f460be3eba8>, 'hidden_units': [500, 500, 500], 'feature_columns': (_RealValuedColumn(column_name='lags', dimension=5, default_value=None, dtype=tf.float32, normalizer=None),), 'optimizer': None, 'activation_fn': <function relu at 0x7f461bdb6a60>, 'dropout': None, 'gradient_clip_norm': None, 'embedding_lr_multipliers': None, 'input_layer_min_slice_size': None})"
      ]
     },
     "execution_count": 46,
     "metadata": {},
     "output_type": "execute_result"
    }
   ],
   "source": [
    "# fit and time model\n",
    "%time model.fit(input_fn=input_fn, steps=500)  "
   ]
  },
  {
   "cell_type": "code",
   "execution_count": 47,
   "metadata": {
    "scrolled": true
   },
   "outputs": [
    {
     "data": {
      "text/plain": [
       "{'loss': 0.67556256, 'accuracy': 0.56765008, 'global_step': 500}"
      ]
     },
     "execution_count": 47,
     "metadata": {},
     "output_type": "execute_result"
    }
   ],
   "source": [
    "model.evaluate(input_fn=input_fn, steps=1)  "
   ]
  },
  {
   "cell_type": "code",
   "execution_count": 48,
   "metadata": {
    "scrolled": true
   },
   "outputs": [
    {
     "data": {
      "text/plain": [
       "array([1, 1, 1, 1, 1, 1, 1, 1, 1, 1])"
      ]
     },
     "execution_count": 48,
     "metadata": {},
     "output_type": "execute_result"
    }
   ],
   "source": [
    "pred = np.array(list(model.predict(input_fn=input_fn)))  \n",
    "pred[:10]  "
   ]
  },
  {
   "cell_type": "code",
   "execution_count": 49,
   "metadata": {
    "scrolled": true
   },
   "outputs": [],
   "source": [
    "# put the data back on the -1 to 1 scale\n",
    "data_ML['pos_dnn_tf'] = np.where(pred > 0, 1, -1)  "
   ]
  },
  {
   "cell_type": "code",
   "execution_count": 50,
   "metadata": {
    "scrolled": true
   },
   "outputs": [],
   "source": [
    "data_ML['strat_dnn_tf'] = data_ML['pos_dnn_tf'] * data_ML['Returns']"
   ]
  },
  {
   "cell_type": "markdown",
   "metadata": {},
   "source": [
    "# Results"
   ]
  },
  {
   "cell_type": "code",
   "execution_count": 51,
   "metadata": {
    "scrolled": false
   },
   "outputs": [
    {
     "data": {
      "text/plain": [
       "Returns         1.746065\n",
       "strat_dnn_tf    1.775381\n",
       "dtype: float64"
      ]
     },
     "execution_count": 51,
     "metadata": {},
     "output_type": "execute_result"
    }
   ],
   "source": [
    "data_ML[['Returns', 'strat_dnn_tf']].sum().apply(np.exp)"
   ]
  },
  {
   "cell_type": "markdown",
   "metadata": {},
   "source": [
    "Note the predictions without the test_train_split are nearly equal with the strategy performing slightly better in one reset while worse in another.  However, as mentioned before, this is not realistic, since again we do not have foreknowledge of the stock market."
   ]
  },
  {
   "cell_type": "code",
   "execution_count": 52,
   "metadata": {
    "scrolled": true
   },
   "outputs": [
    {
     "data": {
      "image/png": "[encoded data removed]",
      "text/plain": [
       "<matplotlib.figure.Figure at 0x7f4616cb66a0>"
      ]
     },
     "metadata": {
      "needs_background": "light"
     },
     "output_type": "display_data"
    }
   ],
   "source": [
    "data_ML[['Returns', 'strat_dnn_tf']].cumsum(\n",
    "        ).apply(np.exp).plot(figsize=(10, 6));\n",
    "# plt.savefig('../../images/ch15/strat_ml_14.png');"
   ]
  },
  {
   "cell_type": "code",
   "execution_count": 53,
   "metadata": {},
   "outputs": [],
   "source": [
    "model = tf.contrib.learn.DNNClassifier(hidden_units=3 * [500],\n",
    "                                       n_classes=len(bins) + 1,\n",
    "                                       feature_columns=feature_columns)"
   ]
  },
  {
   "cell_type": "markdown",
   "metadata": {},
   "source": [
    "Now a adding a test-train split is necessary as to avoid overfitting of the DNN model.  Using the same test train split from the past sklearn DNN module"
   ]
  },
  {
   "cell_type": "code",
   "execution_count": 54,
   "metadata": {
    "scrolled": true
   },
   "outputs": [],
   "source": [
    "data_ML = train"
   ]
  },
  {
   "cell_type": "code",
   "execution_count": 55,
   "metadata": {
    "scrolled": false
   },
   "outputs": [
    {
     "name": "stdout",
     "output_type": "stream",
     "text": [
      "CPU times: user 10.7 s, sys: 1.85 s, total: 12.5 s\n",
      "Wall time: 10.5 s\n"
     ]
    },
    {
     "data": {
      "text/plain": [
       "DNNClassifier(params={'head': <tensorflow.contrib.learn.python.learn.estimators.head._MultiClassHead object at 0x7f4616bdaef0>, 'hidden_units': [500, 500, 500], 'feature_columns': (_RealValuedColumn(column_name='lags', dimension=5, default_value=None, dtype=tf.float32, normalizer=None),), 'optimizer': None, 'activation_fn': <function relu at 0x7f461bdb6a60>, 'dropout': None, 'gradient_clip_norm': None, 'embedding_lr_multipliers': None, 'input_layer_min_slice_size': None})"
      ]
     },
     "execution_count": 55,
     "metadata": {},
     "output_type": "execute_result"
    }
   ],
   "source": [
    "%time model.fit(input_fn=input_fn, steps=2500)"
   ]
  },
  {
   "cell_type": "code",
   "execution_count": 56,
   "metadata": {},
   "outputs": [],
   "source": [
    "data_ML = test"
   ]
  },
  {
   "cell_type": "code",
   "execution_count": 57,
   "metadata": {},
   "outputs": [
    {
     "data": {
      "text/plain": [
       "{'loss': 0.69696522, 'accuracy': 0.51692307, 'global_step': 2500}"
      ]
     },
     "execution_count": 57,
     "metadata": {},
     "output_type": "execute_result"
    }
   ],
   "source": [
    "model.evaluate(input_fn=input_fn, steps=1)"
   ]
  },
  {
   "cell_type": "code",
   "execution_count": 58,
   "metadata": {
    "scrolled": true
   },
   "outputs": [
    {
     "data": {
      "text/plain": [
       "array([1, 0, 1, 0, 0, 1, 1, 1, 0, 1])"
      ]
     },
     "execution_count": 58,
     "metadata": {},
     "output_type": "execute_result"
    }
   ],
   "source": [
    "predictions = np.array(list(model.predict(input_fn=input_fn)))\n",
    "predictions[:10]"
   ]
  },
  {
   "cell_type": "code",
   "execution_count": 59,
   "metadata": {
    "scrolled": true
   },
   "outputs": [],
   "source": [
    "test['pos_dnn_tf'] = np.where(predictions > 0, 1, -1)"
   ]
  },
  {
   "cell_type": "code",
   "execution_count": 60,
   "metadata": {
    "scrolled": true
   },
   "outputs": [],
   "source": [
    "test['strat_dnn_tf'] = test['pos_dnn_tf'] * test['Returns']"
   ]
  },
  {
   "cell_type": "markdown",
   "metadata": {},
   "source": [
    "# Results"
   ]
  },
  {
   "cell_type": "code",
   "execution_count": 61,
   "metadata": {
    "scrolled": false
   },
   "outputs": [
    {
     "data": {
      "text/plain": [
       "Returns         1.265743\n",
       "strat_dnn_sk    1.025006\n",
       "strat_dnn_tf    1.037167\n",
       "dtype: float64"
      ]
     },
     "execution_count": 61,
     "metadata": {},
     "output_type": "execute_result"
    }
   ],
   "source": [
    "test[['Returns', 'strat_dnn_sk', 'strat_dnn_tf']].sum().apply(np.exp)"
   ]
  },
  {
   "cell_type": "markdown",
   "metadata": {},
   "source": [
    "The strategy of DNN tensorflow preformed a bit better than that of scikit-learn.  However, it did not beat the returns."
   ]
  },
  {
   "cell_type": "code",
   "execution_count": 62,
   "metadata": {
    "scrolled": false
   },
   "outputs": [
    {
     "data": {
      "image/png": "[encoded data removed]",
      "text/plain": [
       "<matplotlib.figure.Figure at 0x7f46170bdd30>"
      ]
     },
     "metadata": {
      "needs_background": "light"
     },
     "output_type": "display_data"
    }
   ],
   "source": [
    "test[['Returns', 'strat_dnn_sk', 'strat_dnn_tf']].cumsum(\n",
    "        ).apply(np.exp).plot(figsize=(10, 6));\n",
    "# plt.savefig('../../images/ch15/strat_ml_15.png');"
   ]
  },
  {
   "cell_type": "markdown",
   "metadata": {},
   "source": [
    "interestingly, all three lines are all equal at about 150, then only two lines are equal at 200."
   ]
  },
  {
   "cell_type": "markdown",
   "metadata": {},
   "source": [
    "### Approach 2:  DNNRegressor, with different boundaries"
   ]
  },
  {
   "cell_type": "markdown",
   "metadata": {},
   "source": [
    "We will be now using a **DNNRegressor**. A DNNRegressor is similar to a DNNClassifier, however it predicts a numeric value in a continuous range."
   ]
  },
  {
   "cell_type": "code",
   "execution_count": 63,
   "metadata": {
    "scrolled": true
   },
   "outputs": [],
   "source": [
    "train, test = train_test_split(data_ML, test_size=0.33, random_state=100)"
   ]
  },
  {
   "cell_type": "code",
   "execution_count": 64,
   "metadata": {},
   "outputs": [],
   "source": [
    "test = test.copy().sort_index()  "
   ]
  },
  {
   "cell_type": "code",
   "execution_count": 65,
   "metadata": {},
   "outputs": [],
   "source": [
    "# optimizer, in this case the Adam Optimizer, \n",
    "# this updates network weights iteratives over time based in training data\n",
    "\n",
    "opti = tf.train.AdamOptimizer(learning_rate = 0.01)"
   ]
  },
  {
   "cell_type": "code",
   "execution_count": 66,
   "metadata": {
    "scrolled": true
   },
   "outputs": [],
   "source": [
    "feature_columns = [tf.contrib.layers.real_valued_column('lags', dimension=lags)]"
   ]
  },
  {
   "cell_type": "code",
   "execution_count": 67,
   "metadata": {
    "scrolled": false
   },
   "outputs": [],
   "source": [
    "# initiate model\n",
    "\n",
    "model = tf.estimator.DNNRegressor(hidden_units=[9,9,3], \n",
    "                                      feature_columns=feature_columns, \n",
    "                                      optimizer=opti, \n",
    "                                      dropout=0.5)"
   ]
  },
  {
   "cell_type": "code",
   "execution_count": 68,
   "metadata": {},
   "outputs": [],
   "source": [
    "# create an organized input for tensorflow\n",
    "\n",
    "# - scalling is typically done since most common activation functions are built on that scale\n",
    "# Some people typicall use sklearn.preprocessing.StandardScaler however, \n",
    "# this is not necessary since our data is aready scaled within a limit.\n",
    "# - scale the directional data from 0 to 1\n",
    "\n",
    "\n",
    "\n",
    "def input_fn():\n",
    "    fc = {'lags': tf.constant(data_ML[cols_bin].values)}\n",
    "    la = tf.constant(data_ML['direction'].apply(lambda x: 0 if x < 0 else 1).values, # tf.constant is a constant tensor with value and shape\n",
    "                     shape=[data_ML['direction'].size, 1])\n",
    "    return fc, la"
   ]
  },
  {
   "cell_type": "code",
   "execution_count": 69,
   "metadata": {
    "scrolled": true
   },
   "outputs": [
    {
     "name": "stdout",
     "output_type": "stream",
     "text": [
      "CPU times: user 3.65 s, sys: 499 ms, total: 4.15 s\n",
      "Wall time: 2.69 s\n"
     ]
    },
    {
     "data": {
      "text/plain": [
       "<tensorflow.python.estimator.canned.dnn.DNNRegressor at 0x7f4608535fd0>"
      ]
     },
     "execution_count": 69,
     "metadata": {},
     "output_type": "execute_result"
    }
   ],
   "source": [
    "# fit and time model\n",
    "%time model.train(input_fn=input_fn, steps=500)  "
   ]
  },
  {
   "cell_type": "markdown",
   "metadata": {},
   "source": [
    "Evaluation without the formal test_train_split, but still split"
   ]
  },
  {
   "cell_type": "code",
   "execution_count": 70,
   "metadata": {
    "scrolled": true
   },
   "outputs": [
    {
     "data": {
      "text/plain": [
       "{'average_loss': 0.24643038, 'loss': 80.089874, 'global_step': 500}"
      ]
     },
     "execution_count": 70,
     "metadata": {},
     "output_type": "execute_result"
    }
   ],
   "source": [
    "model.evaluate(input_fn=input_fn, steps=1)  "
   ]
  },
  {
   "cell_type": "markdown",
   "metadata": {},
   "source": [
    "This loss is very good and the model may not show good results.  The loss from the DNNClassifer model was 0.56765008 for all the data."
   ]
  },
  {
   "cell_type": "code",
   "execution_count": 71,
   "metadata": {
    "scrolled": false
   },
   "outputs": [],
   "source": [
    "import itertools\n",
    "import re\n",
    "\n",
    "# model predict will go on forever, so we need to user an iteration limit\n",
    "y = model.predict(input_fn=input_fn)\n",
    "\n",
    "# .predict() returns an iterator; convert to a list and print predictions\n",
    "predictions = list(itertools.islice(y, len(data_ML2)))\n",
    "\n",
    "#print(\"Predictions: {}\".format(str(predictions)))\n",
    "predictions = pd.DataFrame(predictions).astype(int)\n"
   ]
  },
  {
   "cell_type": "code",
   "execution_count": 72,
   "metadata": {
    "scrolled": false
   },
   "outputs": [],
   "source": [
    "# put the data back on the -1 to 1 scale\n",
    "\n",
    "data_ML2['pos_dnn_tf'] = np.where(predictions > 0, 1, -1)\n"
   ]
  },
  {
   "cell_type": "code",
   "execution_count": 73,
   "metadata": {
    "scrolled": true
   },
   "outputs": [],
   "source": [
    "data_ML['strat_dnn_tf_2'] = data_ML['pos_dnn_tf'] * data_ML['Returns']"
   ]
  },
  {
   "cell_type": "markdown",
   "metadata": {},
   "source": [
    "# Results"
   ]
  },
  {
   "cell_type": "code",
   "execution_count": 74,
   "metadata": {
    "scrolled": false
   },
   "outputs": [
    {
     "data": {
      "text/plain": [
       "Returns           1.265743\n",
       "strat_dnn_tf_2    1.037167\n",
       "dtype: float64"
      ]
     },
     "execution_count": 74,
     "metadata": {},
     "output_type": "execute_result"
    }
   ],
   "source": [
    "data_ML[['Returns', 'strat_dnn_tf_2']].sum().apply(np.exp)"
   ]
  },
  {
   "cell_type": "code",
   "execution_count": 75,
   "metadata": {
    "scrolled": true
   },
   "outputs": [
    {
     "data": {
      "text/plain": [
       "Returns           1.265743\n",
       "strat_dnn_tf      1.037167\n",
       "strat_dnn_tf_2    1.037167\n",
       "dtype: float64"
      ]
     },
     "execution_count": 75,
     "metadata": {},
     "output_type": "execute_result"
    }
   ],
   "source": [
    "data_ML[['Returns','strat_dnn_tf','strat_dnn_tf_2']].sum().apply(np.exp)\n"
   ]
  },
  {
   "cell_type": "markdown",
   "metadata": {},
   "source": [
    "The DNNRegressor preformed the same as DNNClassifier without any test_train_split"
   ]
  },
  {
   "cell_type": "code",
   "execution_count": 76,
   "metadata": {
    "scrolled": false
   },
   "outputs": [
    {
     "data": {
      "image/png": "[encoded data removed]",
      "text/plain": [
       "<matplotlib.figure.Figure at 0x7f4617131b00>"
      ]
     },
     "metadata": {
      "needs_background": "light"
     },
     "output_type": "display_data"
    }
   ],
   "source": [
    "data_ML[['Returns', 'strat_dnn_tf_2']].cumsum(\n",
    "        ).apply(np.exp).plot(figsize=(10, 6));\n",
    "# plt.savefig('../../images/ch15/strat_ml_14.png');"
   ]
  },
  {
   "cell_type": "markdown",
   "metadata": {},
   "source": [
    "###  Three comparisons\n"
   ]
  },
  {
   "cell_type": "code",
   "execution_count": 77,
   "metadata": {
    "scrolled": true
   },
   "outputs": [
    {
     "data": {
      "image/png": "[encoded data removed]",
      "text/plain": [
       "<matplotlib.figure.Figure at 0x7f46082e3da0>"
      ]
     },
     "metadata": {
      "needs_background": "light"
     },
     "output_type": "display_data"
    }
   ],
   "source": [
    "data_ML[['Returns', 'strat_dnn_tf', 'strat_dnn_tf_2']].cumsum(\n",
    "        ).apply(np.exp).plot(figsize=(10, 6));\n",
    "# plt.savefig('../../images/ch15/strat_ml_14.png');"
   ]
  },
  {
   "cell_type": "code",
   "execution_count": 78,
   "metadata": {
    "scrolled": true
   },
   "outputs": [],
   "source": [
    "# initiate model\n",
    "\n",
    "model = tf.estimator.DNNRegressor(hidden_units=[9,9,3], \n",
    "                                      feature_columns=feature_columns, \n",
    "                                      optimizer=opti, \n",
    "                                      dropout=0.5)"
   ]
  },
  {
   "cell_type": "markdown",
   "metadata": {},
   "source": [
    "Now a adding a test-train split is necessary as to avoid overfitting of the DNN model.  Using the same test train split from the past DNN module"
   ]
  },
  {
   "cell_type": "code",
   "execution_count": 79,
   "metadata": {},
   "outputs": [],
   "source": [
    "data_ML = train"
   ]
  },
  {
   "cell_type": "code",
   "execution_count": 80,
   "metadata": {
    "scrolled": true
   },
   "outputs": [
    {
     "name": "stdout",
     "output_type": "stream",
     "text": [
      "CPU times: user 13.2 s, sys: 2.26 s, total: 15.4 s\n",
      "Wall time: 8 s\n"
     ]
    },
    {
     "data": {
      "text/plain": [
       "<tensorflow.python.estimator.canned.dnn.DNNRegressor at 0x7f46089d75f8>"
      ]
     },
     "execution_count": 80,
     "metadata": {},
     "output_type": "execute_result"
    }
   ],
   "source": [
    "%time model.train(input_fn=input_fn, steps=2500)"
   ]
  },
  {
   "cell_type": "code",
   "execution_count": 81,
   "metadata": {},
   "outputs": [],
   "source": [
    "data_ML = test"
   ]
  },
  {
   "cell_type": "code",
   "execution_count": 82,
   "metadata": {
    "scrolled": false
   },
   "outputs": [
    {
     "data": {
      "text/plain": [
       "{'average_loss': 0.24692443, 'loss': 26.667839, 'global_step': 2500}"
      ]
     },
     "execution_count": 82,
     "metadata": {},
     "output_type": "execute_result"
    }
   ],
   "source": [
    "model.evaluate(input_fn=input_fn, steps=1)"
   ]
  },
  {
   "cell_type": "markdown",
   "metadata": {},
   "source": [
    "This loss is very big and may not show any good results.  The loss from the DNNClassifier for the test data was 0.52615386.  However, the test DNNRegressor is significantly different with a value of 26.667839 compared to the whole data DNNRegressor with a value of 80.085297."
   ]
  },
  {
   "cell_type": "code",
   "execution_count": 83,
   "metadata": {
    "scrolled": true
   },
   "outputs": [],
   "source": [
    "# model predict will go on forever, so we need to user an iteration limit\n",
    "y = model.predict(input_fn=input_fn)\n",
    "\n",
    "# .predict() returns an iterator; convert to a list and print predictions\n",
    "predictions_test = list(itertools.islice(y, len(test)))\n",
    "\n",
    "#print(\"Predictions: {}\".format(str(predictions)))\n",
    "predictions_test = pd.DataFrame(predictions_test).astype(int)\n"
   ]
  },
  {
   "cell_type": "code",
   "execution_count": 84,
   "metadata": {
    "scrolled": true
   },
   "outputs": [],
   "source": [
    "test['pos_dnn_tf'] = np.where(predictions_test > 0, 1, -1)"
   ]
  },
  {
   "cell_type": "markdown",
   "metadata": {},
   "source": [
    "# Results"
   ]
  },
  {
   "cell_type": "code",
   "execution_count": 85,
   "metadata": {
    "scrolled": true
   },
   "outputs": [],
   "source": [
    "test['strat_dnn_tf_2'] = test['pos_dnn_tf'] * test['Returns']"
   ]
  },
  {
   "cell_type": "code",
   "execution_count": 86,
   "metadata": {
    "scrolled": false
   },
   "outputs": [
    {
     "data": {
      "text/plain": [
       "Returns           1.186454\n",
       "strat_dnn_tf_2    0.842848\n",
       "dtype: float64"
      ]
     },
     "execution_count": 86,
     "metadata": {},
     "output_type": "execute_result"
    }
   ],
   "source": [
    "test[['Returns', 'strat_dnn_tf_2']].sum().apply(np.exp)"
   ]
  },
  {
   "cell_type": "markdown",
   "metadata": {},
   "source": [
    "The test strategy of this DNNRegressor with a value of 0.842848 is less than test strategy of the DNNClassifier with a value of 1.037005.  Comparably, the test strategy of the scikit-learn classifier is between these values with a value of 1.007196."
   ]
  },
  {
   "cell_type": "code",
   "execution_count": 87,
   "metadata": {
    "scrolled": false
   },
   "outputs": [
    {
     "data": {
      "image/png": "[encoded data removed]",
      "text/plain": [
       "<matplotlib.figure.Figure at 0x7f4608cb3f60>"
      ]
     },
     "metadata": {
      "needs_background": "light"
     },
     "output_type": "display_data"
    }
   ],
   "source": [
    "test[['Returns', 'strat_dnn_tf_2']].cumsum(\n",
    "        ).apply(np.exp).plot(figsize=(10, 6));\n",
    "# plt.savefig('../../images/ch15/strat_ml_15.png');"
   ]
  },
  {
   "cell_type": "markdown",
   "metadata": {},
   "source": [
    "As the graph shows, the relationship between the strategy to the returns is a inversed mirrored relationship."
   ]
  },
  {
   "cell_type": "markdown",
   "metadata": {},
   "source": [
    "### Changing the nodes"
   ]
  },
  {
   "cell_type": "markdown",
   "metadata": {},
   "source": [
    "I did notice, my hidden units are significantly less than the other test with node values of [9,9,3] respectfully for each layer.  This is the amount that was recommended on the tensorflow website example. I will now preform a quick test and change these nodes:"
   ]
  },
  {
   "cell_type": "code",
   "execution_count": 88,
   "metadata": {
    "scrolled": true
   },
   "outputs": [],
   "source": [
    "train, test = train_test_split(data_ML, test_size=0.33, random_state=100)"
   ]
  },
  {
   "cell_type": "code",
   "execution_count": 89,
   "metadata": {},
   "outputs": [],
   "source": [
    "test = test.copy().sort_index()  "
   ]
  },
  {
   "cell_type": "code",
   "execution_count": 90,
   "metadata": {
    "scrolled": true
   },
   "outputs": [],
   "source": [
    "# change the nodes and initiate the model\n",
    "\n",
    "model = tf.estimator.DNNRegressor(hidden_units=3 * [500], \n",
    "                                      feature_columns=feature_columns, \n",
    "                                      optimizer=opti, \n",
    "                                      dropout=0.5)"
   ]
  },
  {
   "cell_type": "markdown",
   "metadata": {},
   "source": [
    "Now a adding a test-train split is necessary as to avoid overfitting of the DNN model.  Using the same test train split from the past DNN module"
   ]
  },
  {
   "cell_type": "code",
   "execution_count": 91,
   "metadata": {},
   "outputs": [],
   "source": [
    "data_ML = train"
   ]
  },
  {
   "cell_type": "code",
   "execution_count": 92,
   "metadata": {
    "scrolled": true
   },
   "outputs": [
    {
     "name": "stdout",
     "output_type": "stream",
     "text": [
      "CPU times: user 14.9 s, sys: 2.62 s, total: 17.5 s\n",
      "Wall time: 9.93 s\n"
     ]
    },
    {
     "data": {
      "text/plain": [
       "<tensorflow.python.estimator.canned.dnn.DNNRegressor at 0x7f4616d84320>"
      ]
     },
     "execution_count": 92,
     "metadata": {},
     "output_type": "execute_result"
    }
   ],
   "source": [
    "%time model.train(input_fn=input_fn, steps=2500)"
   ]
  },
  {
   "cell_type": "code",
   "execution_count": 93,
   "metadata": {},
   "outputs": [],
   "source": [
    "data_ML = test"
   ]
  },
  {
   "cell_type": "code",
   "execution_count": 94,
   "metadata": {
    "scrolled": false
   },
   "outputs": [
    {
     "data": {
      "text/plain": [
       "{'average_loss': 0.24878486, 'loss': 8.956255, 'global_step': 2500}"
      ]
     },
     "execution_count": 94,
     "metadata": {},
     "output_type": "execute_result"
    }
   ],
   "source": [
    "model.evaluate(input_fn=input_fn, steps=1)"
   ]
  },
  {
   "cell_type": "markdown",
   "metadata": {},
   "source": [
    "This loss is very better than the past two models.  I think this might work.  As a reminder, the loss from the DNNClassifier for the test data was 0.52615386, and the loss from the DNNRegressor for the test data was 26.667839. "
   ]
  },
  {
   "cell_type": "code",
   "execution_count": 95,
   "metadata": {
    "scrolled": true
   },
   "outputs": [],
   "source": [
    "# model predict will go on forever, so we need to user an iteration limit\n",
    "y = model.predict(input_fn=input_fn)\n",
    "\n",
    "# .predict() returns an iterator; convert to a list and print predictions\n",
    "predictions_test = list(itertools.islice(y, len(test)))\n",
    "\n",
    "#print(\"Predictions: {}\".format(str(predictions)))\n",
    "predictions_test = pd.DataFrame(predictions_test).astype(int)\n"
   ]
  },
  {
   "cell_type": "code",
   "execution_count": 96,
   "metadata": {
    "scrolled": true
   },
   "outputs": [],
   "source": [
    "test['pos_dnn_tf'] = np.where(predictions_test > 0, 1, -1)"
   ]
  },
  {
   "cell_type": "markdown",
   "metadata": {},
   "source": [
    "# Results"
   ]
  },
  {
   "cell_type": "code",
   "execution_count": 97,
   "metadata": {
    "scrolled": true
   },
   "outputs": [],
   "source": [
    "test['strat_dnn_tf_2'] = test['pos_dnn_tf'] * test['Returns']"
   ]
  },
  {
   "cell_type": "code",
   "execution_count": 98,
   "metadata": {
    "scrolled": false
   },
   "outputs": [
    {
     "data": {
      "text/plain": [
       "Returns           1.042691\n",
       "strat_dnn_tf_2    0.959057\n",
       "dtype: float64"
      ]
     },
     "execution_count": 98,
     "metadata": {},
     "output_type": "execute_result"
    }
   ],
   "source": [
    "test[['Returns', 'strat_dnn_tf_2']].sum().apply(np.exp)"
   ]
  },
  {
   "cell_type": "markdown",
   "metadata": {},
   "source": [
    "The test strategy of this DNNRegressor is the same value from the past test strategy of the DNNRegressor.   As a reminder, the test strategy of this DNNRegressor with a value of 0.842848 is less than test strategy of the DNNClassifier with a value of 1.037005.  Comparably, the test strategy of the scikit-learn classifier is between these values with a value of 1.007196."
   ]
  },
  {
   "cell_type": "markdown",
   "metadata": {},
   "source": [
    "No need to show the graph, since it is exactly the same."
   ]
  },
  {
   "cell_type": "markdown",
   "metadata": {},
   "source": [
    "# Conclusion"
   ]
  },
  {
   "cell_type": "markdown",
   "metadata": {},
   "source": [
    "Out of the three methods, DNNRegressor performed the worst while the DNNClassifier performed the best.  For the two Tensorflow methods, the DNNRegressor performed worse than the DNNClassifier despite the changes made in node amounts."
   ]
  },
  {
   "cell_type": "markdown",
   "metadata": {},
   "source": [
    "It is very interesting that within the three methods studied, all of the whole dataset model's graph return lines are the same while all the test model's graph return lines are all the same."
   ]
  },
  {
   "cell_type": "markdown",
   "metadata": {},
   "source": [
    "As a friendly reminder, **I would advise one not to trade based off this information and models in this notebook** as it is too risky.  More examination and studing is needed before trading with one of these approaches. I would choose the DNNClassifier, as it showed the best results, to investigate further and build off of.\n",
    "\n",
    "Please do keep in mind that there are other methods, I only tested a few of them based off the limits and review time of this Udacity based project."
   ]
  },
  {
   "cell_type": "code",
   "execution_count": null,
   "metadata": {},
   "outputs": [],
   "source": []
  }
 ],
 "metadata": {
  "kernelspec": {
   "display_name": "Python 3",
   "language": "python",
   "name": "python3"
  },
  "language_info": {
   "codemirror_mode": {
    "name": "ipython",
    "version": 3
   },
   "file_extension": ".py",
   "mimetype": "text/x-python",
   "name": "python",
   "nbconvert_exporter": "python",
   "pygments_lexer": "ipython3",
   "version": "3.6.3"
  }
 },
 "nbformat": 4,
 "nbformat_minor": 2
}
